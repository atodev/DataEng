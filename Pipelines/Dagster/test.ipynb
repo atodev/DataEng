{
 "cells": [
  {
   "cell_type": "code",
   "execution_count": 2,
   "id": "ca990be7",
   "metadata": {},
   "outputs": [],
   "source": [
    "from dagster import asset,FreshnessPolicy\n",
    "import pandas as pd"
   ]
  },
  {
   "cell_type": "code",
   "execution_count": 7,
   "id": "6be5927e",
   "metadata": {},
   "outputs": [],
   "source": [
    "@asset(\n",
    ")\n",
    "def daily_avg_order(daily_order_summary):\n",
    "    return pd.DataFrame({\"count_per_day\": [sum(daily_order_summary[\"num_orders\"])/len(daily_order_summary)]\n",
    "    })\n",
    "                         "
   ]
  },
  {
   "cell_type": "code",
   "execution_count": null,
   "id": "b21aace8",
   "metadata": {},
   "outputs": [],
   "source": []
  }
 ],
 "metadata": {
  "kernelspec": {
   "display_name": ".venv",
   "language": "python",
   "name": "python3"
  },
  "language_info": {
   "codemirror_mode": {
    "name": "ipython",
    "version": 3
   },
   "file_extension": ".py",
   "mimetype": "text/x-python",
   "name": "python",
   "nbconvert_exporter": "python",
   "pygments_lexer": "ipython3",
   "version": "3.13.3"
  }
 },
 "nbformat": 4,
 "nbformat_minor": 5
}
